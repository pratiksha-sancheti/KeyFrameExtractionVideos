{
 "cells": [
  {
   "cell_type": "code",
   "execution_count": 3,
   "metadata": {},
   "outputs": [],
   "source": [
    "import cv2\n",
    "import operator\n",
    "import numpy as np\n",
    "import matplotlib.pyplot as plt\n",
    "import sys\n",
    "from scipy.signal import argrelextrema"
   ]
  },
  {
   "cell_type": "code",
   "execution_count": 59,
   "metadata": {},
   "outputs": [],
   "source": [
    "USE_TOP_ORDER = True\n",
    "USE_LOCAL_MAXIMA = True\n",
    "NUM_TOP_FRAMES = 30\n",
    "\n",
    "videopath = 'jan1.mp4'\n",
    "#dir = 'frames/'\n",
    "len_window = int(10)"
   ]
  },
  {
   "cell_type": "code",
   "execution_count": 52,
   "metadata": {},
   "outputs": [],
   "source": [
    "def smooth(x, window_len=13, window='hanning'):\n",
    "   \n",
    "    print(len(x), window_len)\n",
    "\n",
    "    s = np.r_[2 * x[0] - x[window_len:1:-1],\n",
    "              x, 2 * x[-1] - x[-1:-window_len:-1]]\n",
    "\n",
    "    if window == 'flat':  \n",
    "        w = np.ones(window_len, 'd')\n",
    "    else:\n",
    "        w = getattr(np, window)(window_len)\n",
    "    y = np.convolve(w / w.sum(), s, mode='same')\n",
    "    return y[window_len - 1:-window_len + 1]"
   ]
  },
  {
   "cell_type": "code",
   "execution_count": 53,
   "metadata": {},
   "outputs": [],
   "source": [
    "class Frame:\n",
    "    def __init__(self, id, frame, value):\n",
    "        self.id = id\n",
    "        self.frame = frame\n",
    "        self.value = value\n",
    "\n",
    "    def __lt__(self, other):\n",
    "        if self.id == other.id:\n",
    "            return self.id < other.id\n",
    "        return self.id < other.id\n",
    "\n",
    "    def __gt__(self, other):\n",
    "        return other.__lt__(self)\n",
    "\n",
    "    def __eq__(self, other):\n",
    "        return self.id == other.id and self.id == other.id\n",
    "\n",
    "    def __ne__(self, other):\n",
    "        return not self.__eq__(other)"
   ]
  },
  {
   "cell_type": "code",
   "execution_count": 54,
   "metadata": {},
   "outputs": [],
   "source": [
    "def rel_change(a, b):\n",
    "   x = (b - a) / max(a, b)\n",
    "   print(x)\n",
    "   return x"
   ]
  },
  {
   "cell_type": "code",
   "execution_count": null,
   "metadata": {},
   "outputs": [],
   "source": []
  },
  {
   "cell_type": "code",
   "execution_count": 60,
   "metadata": {},
   "outputs": [],
   "source": [
    "cap = cv2.VideoCapture(str(videopath))\n",
    "\n",
    "\n",
    "curr_frame = None\n",
    "prev_frame = None\n",
    "\n",
    "frame_diffs = []\n",
    "frames = []\n",
    "ret, frame = cap.read()\n",
    "i = 1\n",
    "\n",
    "while(ret):\n",
    "    luv = cv2.cvtColor(frame, cv2.COLOR_BGR2LUV)\n",
    "    curr_frame = luv\n",
    "    if curr_frame is not None and prev_frame is not None:\n",
    "        #logic here\n",
    "        diff = cv2.absdiff(curr_frame, prev_frame)\n",
    "        count = np.sum(diff)\n",
    "        frame_diffs.append(count)\n",
    "        frame = Frame(i, frame, count)\n",
    "        frames.append(frame)\n",
    "    prev_frame = curr_frame\n",
    "    i = i + 1\n",
    "    ret, frame = cap.read()\n",
    "\"\"\"\n",
    "    cv2.imshow('frame',luv)\n",
    "    if cv2.waitKey(1) & 0xFF == ord('q'):\n",
    "        break\n",
    "\"\"\"\n",
    "cap.release()\n",
    "#cv2.destroyAllWindows()"
   ]
  },
  {
   "cell_type": "code",
   "execution_count": 61,
   "metadata": {},
   "outputs": [],
   "source": [
    "dir = \"TOP_ORDER/\"\n",
    "if USE_TOP_ORDER:\n",
    "    frames.sort(key=operator.attrgetter(\"value\"), reverse=True)\n",
    "    for keyframe in frames[:NUM_TOP_FRAMES]:\n",
    "        name = \"frame_\" + str(keyframe.id) + \".jpg\"\n",
    "        cv2.imwrite(dir + \"/\" + name, keyframe.frame)"
   ]
  },
  {
   "cell_type": "code",
   "execution_count": null,
   "metadata": {},
   "outputs": [],
   "source": []
  },
  {
   "cell_type": "code",
   "execution_count": 57,
   "metadata": {},
   "outputs": [
    {
     "name": "stdout",
     "output_type": "stream",
     "text": [
      "Using Local Maxima\n",
      "41 10\n"
     ]
    }
   ],
   "source": [
    "dir = \"LOCAL_MAXIMA/\"\n",
    "if USE_LOCAL_MAXIMA:\n",
    "    print(\"Using Local Maxima\")\n",
    "    diff_array = np.array(frame_diffs)\n",
    "    sm_diff_array = smooth(diff_array, len_window)\n",
    "    frame_indexes = np.asarray(argrelextrema(sm_diff_array, np.greater))[0]\n",
    "    for i in frame_indexes:\n",
    "        name = \"frame_\" + str(frames[i - 1].id) + \".jpg\"\n",
    "        cv2.imwrite(dir + name, frames[i - 1].frame)"
   ]
  },
  {
   "cell_type": "code",
   "execution_count": 58,
   "metadata": {},
   "outputs": [
    {
     "name": "stdout",
     "output_type": "stream",
     "text": [
      "Video :jan1.mp4\n",
      "Frame Directory: LOCAL_MAXIMA/\n"
     ]
    }
   ],
   "source": [
    "print(\"Video :\" + videopath)\n",
    "print(\"Frame Directory: \" + dir)"
   ]
  },
  {
   "cell_type": "code",
   "execution_count": null,
   "metadata": {},
   "outputs": [],
   "source": []
  }
 ],
 "metadata": {
  "kernelspec": {
   "display_name": "Python 3",
   "language": "python",
   "name": "python3"
  },
  "language_info": {
   "codemirror_mode": {
    "name": "ipython",
    "version": 3
   },
   "file_extension": ".py",
   "mimetype": "text/x-python",
   "name": "python",
   "nbconvert_exporter": "python",
   "pygments_lexer": "ipython3",
   "version": "3.8.5"
  }
 },
 "nbformat": 4,
 "nbformat_minor": 4
}
